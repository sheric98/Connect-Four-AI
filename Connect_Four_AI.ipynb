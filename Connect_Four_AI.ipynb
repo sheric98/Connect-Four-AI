{
  "nbformat": 4,
  "nbformat_minor": 0,
  "metadata": {
    "colab": {
      "name": "Connect Four AI",
      "provenance": [],
      "authorship_tag": "ABX9TyPkbjZsjfM1ZvU/7sUSLPMv",
      "include_colab_link": true
    },
    "kernelspec": {
      "name": "python3",
      "display_name": "Python 3"
    },
    "accelerator": "GPU"
  },
  "cells": [
    {
      "cell_type": "markdown",
      "metadata": {
        "id": "view-in-github",
        "colab_type": "text"
      },
      "source": [
        "<a href=\"https://colab.research.google.com/github/sheric98/Connect-Four-AI/blob/master/Connect_Four_AI.ipynb\" target=\"_parent\"><img src=\"https://colab.research.google.com/assets/colab-badge.svg\" alt=\"Open In Colab\"/></a>"
      ]
    },
    {
      "cell_type": "code",
      "metadata": {
        "id": "0sSNh40dbamX",
        "colab_type": "code",
        "colab": {
          "base_uri": "https://localhost:8080/",
          "height": 131
        },
        "outputId": "7eb17074-91a7-413b-cd4f-d21d0789d2ba"
      },
      "source": [
        "from google.colab import drive\n",
        "drive.mount('/ME')"
      ],
      "execution_count": null,
      "outputs": [
        {
          "output_type": "stream",
          "text": [
            "Go to this URL in a browser: https://accounts.google.com/o/oauth2/auth?client_id=947318989803-6bn6qk8qdgf4n4g3pfee6491hc0brc4i.apps.googleusercontent.com&redirect_uri=urn%3aietf%3awg%3aoauth%3a2.0%3aoob&response_type=code&scope=email%20https%3a%2f%2fwww.googleapis.com%2fauth%2fdocs.test%20https%3a%2f%2fwww.googleapis.com%2fauth%2fdrive%20https%3a%2f%2fwww.googleapis.com%2fauth%2fdrive.photos.readonly%20https%3a%2f%2fwww.googleapis.com%2fauth%2fpeopleapi.readonly\n",
            "\n",
            "Enter your authorization code:\n",
            "··········\n",
            "Mounted at /ME\n"
          ],
          "name": "stdout"
        }
      ]
    },
    {
      "cell_type": "code",
      "metadata": {
        "id": "YUuqve_vLFEy",
        "colab_type": "code",
        "colab": {}
      },
      "source": [
        "import numpy as np\n",
        "import copy"
      ],
      "execution_count": null,
      "outputs": []
    },
    {
      "cell_type": "code",
      "metadata": {
        "id": "SBTLiGBzLQWQ",
        "colab_type": "code",
        "colab": {}
      },
      "source": [
        "# connect four board\n",
        "class Game:\n",
        "    def __init__(self, nrows=6, ncols=7):\n",
        "        self.player = 1\n",
        "        self.nrows = nrows\n",
        "        self.ncols = ncols\n",
        "        self.board = np.zeros((nrows, ncols),dtype=int)\n",
        "        self.display = np.empty((nrows,ncols),dtype=str)\n",
        "        self.display[:,:] = ' '\n",
        "        self.encode = np.zeros((nrows,ncols,3),dtype=int)\n",
        "        self.col_pos = np.zeros(ncols, dtype=int)\n",
        "        self.valid_cols = np.ones(ncols, dtype=bool)\n",
        "        self.moves = 0\n",
        "        self.neighbors = [((1,1), (-1,-1)), ((1,-1), (-1,1)),\n",
        "                          ((1,0), (-1,0)), ((0,1), (0,-1))]\n",
        "        self.piece_map = {1: 'X', -1: 'O'}\n",
        "        self.encode_map = {1: 0, -1: 1}\n",
        "        self.state = 2  # 2 represents not ended\n",
        "\n",
        "    def get_actual_player(self):\n",
        "        return (2 * int(self.moves % 2 == 0)) - 1\n",
        "\n",
        "    def get_key(self):\n",
        "        return self.board.tobytes()\n",
        "\n",
        "    def get_piece(self, tile):\n",
        "        return self.board[tile[1],tile[0]]\n",
        "\n",
        "    def check_valid_tile(self, tile):\n",
        "        x = tile[0]\n",
        "        y = tile[1]\n",
        "        return (0 <= x < self.ncols) and (0 <= y < self.nrows)\n",
        "\n",
        "    def move_in_dir(self, direc, tile):\n",
        "        return (tile[0] + direc[0], tile[1] + direc[1])\n",
        "\n",
        "    def check_dir(self, direc, tile, chain):\n",
        "        if not self.check_valid_tile(tile):\n",
        "            return chain\n",
        "        piece = self.get_piece(tile)\n",
        "        if piece == self.player:\n",
        "            if chain == 3:  # this means player won\n",
        "                return 4\n",
        "            next_in_chain = self.move_in_dir(direc, tile)\n",
        "            return self.check_dir(direc, next_in_chain, chain+1)\n",
        "        return chain\n",
        "\n",
        "    # check win (four consecutive) of\n",
        "    # current player for current move\n",
        "    def check_win(self, move):\n",
        "        for pair in self.neighbors:\n",
        "            chain1 = self.check_dir(pair[0],move,0)\n",
        "            chain2 = self.check_dir(pair[1],move,0)\n",
        "            if chain1 + chain2 - 1 >= 4:\n",
        "                return True\n",
        "        return False\n",
        "\n",
        "    def check_full(self):\n",
        "        return self.moves == (self.nrows * self.ncols)\n",
        "\n",
        "    def check_valid_move(self, col):\n",
        "        return (0 <= col < self.ncols) and self.valid_cols[col]\n",
        "\n",
        "    def update_col(self, col):\n",
        "        self.col_pos[col] += 1\n",
        "        # column is full\n",
        "        if self.col_pos[col] == self.nrows:\n",
        "            self.valid_cols[col] = False\n",
        "    \n",
        "    def update_board(self, x,y):\n",
        "        self.board[y,x] = self.player\n",
        "        self.display[y,x] = self.piece_map[self.player]\n",
        "        ind = self.encode_map[self.player]\n",
        "        other_ind = 1-ind\n",
        "        self.encode[y,x,ind] = 1\n",
        "        self.encode[:,:,2] = other_ind\n",
        "\n",
        "\n",
        "    # make move\n",
        "    # returns 1 for win, 2 for draw,\n",
        "    # 0 for move made, and -1 for invalid move\n",
        "    def make_move(self, col):\n",
        "        if self.check_valid_move(col):\n",
        "            x = col\n",
        "            y = self.col_pos[col]\n",
        "\n",
        "            self.update_board(x,y)\n",
        "            self.moves += 1\n",
        "            self.update_col(col)\n",
        "            move = (x,y)\n",
        "            if self.check_win(move):\n",
        "                #print('Player %d wins' % (self.player))\n",
        "                self.state = self.player\n",
        "                self.player *= -1\n",
        "                return 1\n",
        "            if self.check_full():\n",
        "                #print('Draw')\n",
        "                self.state = 0\n",
        "                self.player *= -1\n",
        "                return 2\n",
        "            self.player *= -1\n",
        "            return 0\n",
        "        return -1\n",
        "    \n",
        "    def display_board(self):\n",
        "        for i in range(self.nrows):\n",
        "            print(self.display[self.nrows-1-i,:])\n",
        "\n",
        "    def make_copy(self):\n",
        "        return copy.deepcopy(self)\n",
        "\n",
        "    def normalize_board(self):\n",
        "        self.board *= self.player\n",
        "        if self.state != 2:\n",
        "           self.state *= self.player\n",
        "        self.player *= self.player\n",
        "\n",
        "    def apply_and_normalize(self, move):\n",
        "        game = self.make_copy()\n",
        "        game.make_move(move)\n",
        "        game.normalize_board()\n",
        "        return game"
      ],
      "execution_count": null,
      "outputs": []
    },
    {
      "cell_type": "code",
      "metadata": {
        "id": "Jt7XKYWuTDO_",
        "colab_type": "code",
        "colab": {
          "base_uri": "https://localhost:8080/",
          "height": 336
        },
        "outputId": "89e355f8-9fb8-4222-f0af-8e7114ddd73c"
      },
      "source": [
        "game = Game()\n",
        "game.make_move(0)\n",
        "game.make_move(6)\n",
        "game.make_move(1)\n",
        "game.make_move(6)\n",
        "game.make_move(3)\n",
        "game.make_move(6)\n",
        "print(game.state)\n",
        "game.make_move(2)\n",
        "game.display_board()\n",
        "print(game.state)\n",
        "print(game.player)\n",
        "game.normalize_board()\n",
        "game.display_board()\n",
        "print(game.state)\n",
        "print(game.player)"
      ],
      "execution_count": null,
      "outputs": [
        {
          "output_type": "stream",
          "text": [
            "2\n",
            "[' ' ' ' ' ' ' ' ' ' ' ' ' ']\n",
            "[' ' ' ' ' ' ' ' ' ' ' ' ' ']\n",
            "[' ' ' ' ' ' ' ' ' ' ' ' ' ']\n",
            "[' ' ' ' ' ' ' ' ' ' ' ' 'O']\n",
            "[' ' ' ' ' ' ' ' ' ' ' ' 'O']\n",
            "['X' 'X' 'X' 'X' ' ' ' ' 'O']\n",
            "1\n",
            "-1\n",
            "[' ' ' ' ' ' ' ' ' ' ' ' ' ']\n",
            "[' ' ' ' ' ' ' ' ' ' ' ' ' ']\n",
            "[' ' ' ' ' ' ' ' ' ' ' ' ' ']\n",
            "[' ' ' ' ' ' ' ' ' ' ' ' 'O']\n",
            "[' ' ' ' ' ' ' ' ' ' ' ' 'O']\n",
            "['X' 'X' 'X' 'X' ' ' ' ' 'O']\n",
            "-1\n",
            "1\n"
          ],
          "name": "stdout"
        }
      ]
    },
    {
      "cell_type": "code",
      "metadata": {
        "id": "TwyRXcuUXWsW",
        "colab_type": "code",
        "colab": {
          "base_uri": "https://localhost:8080/",
          "height": 36
        },
        "outputId": "eab26879-1784-4a0a-8474-93ceb6959863"
      },
      "source": [
        "# define network\n",
        "import torch\n",
        "import torch.nn as nn\n",
        "import torch.nn.functional as F\n",
        "device = 'cuda:0' if torch.cuda.is_available() else 'cpu'\n",
        "print(device)"
      ],
      "execution_count": null,
      "outputs": [
        {
          "output_type": "stream",
          "text": [
            "cuda:0\n"
          ],
          "name": "stdout"
        }
      ]
    },
    {
      "cell_type": "code",
      "metadata": {
        "id": "8CB8DMNgZljM",
        "colab_type": "code",
        "colab": {}
      },
      "source": [
        "class NNet(nn.Module):\n",
        "    def __init__(self, nrows=6, ncols=7, nres=2, dropout=0.3,\n",
        "                 step_size=0.001):\n",
        "        super(NNet, self).__init__()\n",
        "        self.nrows = nrows\n",
        "        self.ncols = ncols\n",
        "        self.nres = nres\n",
        "        self.dropout = dropout\n",
        "        self.conv = nn.Conv2d(1,512,3,padding=1)\n",
        "        self.bn = nn.BatchNorm2d(512)\n",
        "        self.conv1 = nn.Conv2d(512, 512, 3, padding=1)\n",
        "        self.conv2 = nn.Conv2d(512, 512, 3, padding=1)\n",
        "        self.conv3 = nn.Conv3d(512, 512, 3)\n",
        "        self.conv4 = nn.Conv4d(512, 512, 3)\n",
        "        self.bn1 = nn.BatchNorm2d(512)\n",
        "        self.bn2 = nn.BatchNorm2d(512)\n",
        "        self.bn3 = nn.BatchNorm2d(512)\n",
        "        self.bn4 = nn.BatchNorm2d(512)\n",
        "        self.fc1 = nn.Linear(512*(nrows-4)*(ncols-4), 1024)\n",
        "        self.fc1_bn = nn.BatchNorm1d(1024)\n",
        "        self.fc2 = nn.Linear(1024, 512)\n",
        "        self.fc2_bn = nn.BatchNorm1d(512)\n",
        "        self.fc3 = nn.Linear(512, ncols)\n",
        "        self.fc4 = nn.Linear(512, 1)\n",
        "        self.criterion1 = nn.MSELoss()\n",
        "        self.criterion2 = nn.CrossEntropyLoss()\n",
        "        self.optimizer = torch.optim.Adam(self.parameters(), lr = step_size)\n",
        "\n",
        "\n",
        "    def forward(self, x):\n",
        "        # apply init convoulutional lyer\n",
        "        x = x.view(-1,1,self.nrows,self.ncols)\n",
        "        x = F.relu(self.bn(self.conv(x)))\n",
        "        x = F.relu(self.bn1(self.conv1(x)))\n",
        "        x = F.relu(self.bn2(self.conv2(x)))\n",
        "        x = F.relu(self.bn3(self.conv3(x)))\n",
        "        x = F.relu(self.bn4(self.conv4(x)))\n",
        "        # apply final output layer. Outputs value and policy\n",
        "        x = x.view(-1, 512*(self.nrows-4)*(self.ncols-4))\n",
        "        x = F.relu(self.fc1_bn(self.fc1(x)))\n",
        "        x = F.dropout(x,p=self.dropout, training=self.training)\n",
        "        x = F.relu(self.fc2_bn(self.fc2(x)))\n",
        "        x = F.dropout(x,p=self.dropout, training=self.training)\n",
        "        p = F.log_softmax(self.fc3(x), dim=1)\n",
        "        v = torch.tanh(self.fc4(x))\n",
        "        return v,p\n",
        "\n",
        "    def predict(self, game):\n",
        "        self.eval()\n",
        "        inp = torch.from_numpy(game.board).float().to(device)\n",
        "        with torch.no_grad():\n",
        "            v,p = self(inp)\n",
        "        \n",
        "        return v.data.cpu().numpy()[0][0], p.exp().data.cpu().numpy()[0]\n",
        "\n",
        "    def calc_loss(self, v, v_targs, p, p_targs):\n",
        "        v_loss = torch.sum((v.view(-1) - v_targs)**2) / v_targs.size()[0]\n",
        "        p_loss = -torch.trace(torch.mm(p, p_targs.t())) / p_targs.size()[0]\n",
        "        return v_loss + p_loss\n",
        "\n",
        "    def get_loss(self, games, v_targs, p_targs):\n",
        "        v, p = self.forward(games)\n",
        "        return self.calc_loss(v, v_targs, p, p_targs)\n",
        "    \n",
        "    def run_grad(self, games, v_targs, p_targs):\n",
        "\n",
        "        # Compute loss\n",
        "        loss = self.get_loss(games, v_targs, p_targs)\n",
        "        # Zero out gradients\n",
        "        self.optimizer.zero_grad()\n",
        "        # Compute gradients\n",
        "        loss.backward()\n",
        "        # Update parameters based on gradients\n",
        "        self.optimizer.step()\n",
        "        \n",
        "        return loss"
      ],
      "execution_count": null,
      "outputs": []
    },
    {
      "cell_type": "code",
      "metadata": {
        "id": "7ahDNQgEm09X",
        "colab_type": "code",
        "colab": {}
      },
      "source": [
        "def train_one_epoch(net, training, batch_size=64, thresh=10):\n",
        "    net.train()\n",
        "    np.random.shuffle(training)\n",
        "    N = len(training)\n",
        "    tot_loss = 0\n",
        "    for j in range(0,N,batch_size):\n",
        "        batch = training[j:j+batch_size]\n",
        "        B = len(batch)\n",
        "        if B < thresh:\n",
        "            N -= B\n",
        "            break\n",
        "        boards, v_targs, p_targs = list(zip(*batch))\n",
        "        boards = np.stack(boards)\n",
        "        p_targs = np.stack(p_targs)\n",
        "        games = torch.FloatTensor(boards.astype(np.float64)).to(device)\n",
        "        v_targs = torch.FloatTensor(np.array(v_targs).astype(np.float64)).to(device)\n",
        "        p_targs = torch.FloatTensor(p_targs).to(device)\n",
        "        loss = net.run_grad(games, v_targs, p_targs)\n",
        "        tot_loss += (loss * B)\n",
        "    return tot_loss / N"
      ],
      "execution_count": null,
      "outputs": []
    },
    {
      "cell_type": "code",
      "metadata": {
        "id": "bLu5o-qXXi60",
        "colab_type": "code",
        "colab": {}
      },
      "source": [
        "def train_mult_epochs(net, training, num_epochs=20):\n",
        "    for i in range(num_epochs):\n",
        "        loss = train_one_epoch(net, training)\n",
        "    print('Loss is %f' % (loss))"
      ],
      "execution_count": null,
      "outputs": []
    },
    {
      "cell_type": "markdown",
      "metadata": {
        "id": "zvQrWerb7cUI",
        "colab_type": "text"
      },
      "source": [
        "# Monte-Carlo Search Tree\n"
      ]
    },
    {
      "cell_type": "code",
      "metadata": {
        "id": "rT5g8zhC7fCP",
        "colab_type": "code",
        "colab": {}
      },
      "source": [
        "class MCST:\n",
        "    def __init__(self, net, cpuct=1, num_sims=25):\n",
        "        self.net = net\n",
        "        self.cpuct = cpuct\n",
        "        self.num_sims = num_sims\n",
        "        self.Qs = {}\n",
        "        self.Ns = {}\n",
        "        self.N_pairs = {}\n",
        "        self.masks = {}\n",
        "        self.board_vals = {}\n",
        "        self.policies = {}\n",
        "    \n",
        "    def is_expanded(self, game):\n",
        "        key = game.get_key()\n",
        "        return key in self.policies\n",
        "\n",
        "    def expand(self, game):\n",
        "        key = game.get_key()\n",
        "        v, p = self.net.predict(game)\n",
        "        self.masks[key] = game.valid_cols.astype(int)\n",
        "        p *= self.masks[key]\n",
        "        div = np.sum(p)\n",
        "        if div == 0:\n",
        "            print('Mask is all 0 in Expand')\n",
        "            print('Backup to uniform distribution')\n",
        "            p = np.ones(game.ncols)\n",
        "            div = game.ncols\n",
        "        p /= div\n",
        "        self.policies[key] = p\n",
        "        self.Ns[key] = 0\n",
        "        return v\n",
        "    \n",
        "    def get_value(self, game):\n",
        "        key = game.get_key()\n",
        "        if key not in self.board_vals:\n",
        "            self.board_vals[key] = game.state\n",
        "        return self.board_vals[key]\n",
        "\n",
        "    def calc_U(self, game, move):\n",
        "        key = game.get_key()\n",
        "        pair = (key, move)\n",
        "        Q = 0\n",
        "        N_pair = 0\n",
        "        prob = self.policies[key][move]\n",
        "        mask = self.masks[key]\n",
        "        if mask[move] == 0:\n",
        "            return -1\n",
        "        N = self.Ns[key] if self.Ns[key] != 0 else 1e-8  # small default value\n",
        "        if pair in self.Qs:\n",
        "            Q = self.Qs[pair]\n",
        "            N_pair = self.N_pairs[pair]\n",
        "        return Q + self.cpuct * prob * np.sqrt(N) / (1 + N_pair)\n",
        "\n",
        "\n",
        "    def get_best_move(self, game):\n",
        "        scores = []\n",
        "        for move in range(game.ncols):\n",
        "            scores.append(self.calc_U(game, move))\n",
        "        best = np.argmax(np.array(scores))\n",
        "        return best\n",
        "        \n",
        "    def update_pair(self, game, move, v):\n",
        "        key = game.get_key()\n",
        "        pair = (key, move)\n",
        "        Q = 0\n",
        "        N_pair = 0\n",
        "        if pair in self.Qs:\n",
        "            Q = self.Qs[pair]\n",
        "            N_pair = self.N_pairs[pair]\n",
        "        self.Qs[pair] = (Q * N_pair + v) / (1 + N_pair)\n",
        "        self.N_pairs[pair] = N_pair + 1\n",
        "\n",
        "    def search(self, game):\n",
        "        end_val = game.state\n",
        "        if end_val != 2:\n",
        "            return -end_val\n",
        "        \n",
        "        if not self.is_expanded(game):\n",
        "            return -self.expand(game)\n",
        "\n",
        "        best_move = self.get_best_move(game)\n",
        "        next_game = game.apply_and_normalize(best_move)\n",
        "        v = self.search(next_game)\n",
        "        self.update_pair(game, best_move, v)\n",
        "\n",
        "        key = game.get_key()\n",
        "        self.Ns[key] += 1\n",
        "\n",
        "        return -v\n",
        "\n",
        "    def get_probs(self, game, temp=1):\n",
        "        key = game.get_key()\n",
        "\n",
        "        for i in range(self.num_sims):\n",
        "            self.search(game)\n",
        "\n",
        "        counts = []\n",
        "        for move in range(game.ncols):\n",
        "            pair = (key,move)\n",
        "            count = 0\n",
        "            if pair in self.N_pairs:\n",
        "                count = self.N_pairs[pair]\n",
        "            counts.append(count)\n",
        "        counts = np.asarray(counts).astype(float)\n",
        "        \n",
        "        if temp == 0:\n",
        "            best_moves = np.array(np.argwhere(counts == np.max(counts))).flatten()\n",
        "            best = np.random.choice(best_moves)\n",
        "            probs = np.zeros(game.ncols)\n",
        "            probs[best] = 1\n",
        "            return probs\n",
        "\n",
        "        div = np.sum(counts)\n",
        "        if div == 0:\n",
        "            print('All Moves 0 in Get Prob')\n",
        "\n",
        "        probs = counts / div\n",
        "        return probs\n",
        "\n",
        "    def get_move(self, game):\n",
        "        return np.argmax(self.get_probs(game,temp=0))"
      ],
      "execution_count": null,
      "outputs": []
    },
    {
      "cell_type": "markdown",
      "metadata": {
        "id": "bhcCbSA6WlfA",
        "colab_type": "text"
      },
      "source": [
        "# Make Training Examples"
      ]
    },
    {
      "cell_type": "code",
      "metadata": {
        "id": "YQFsAVS_dFGB",
        "colab_type": "code",
        "colab": {}
      },
      "source": [
        "def play_through_examples(net, thresh=15):\n",
        "    i = 0\n",
        "    game = Game()\n",
        "    mcst = MCST(net)\n",
        "    end = 2\n",
        "    training_tups = []\n",
        "    player = 1\n",
        "\n",
        "    while end == 2:\n",
        "        normalized_board = game.make_copy()\n",
        "        normalized_board.normalize_board()\n",
        "        temp = 1 if i < thresh else 0\n",
        "        probs = mcst.get_probs(normalized_board, temp)\n",
        "        board = normalized_board.board\n",
        "        training_tups.append((board,probs,player))\n",
        "        move = np.random.choice(len(probs), p=probs)\n",
        "        game.make_move(move)\n",
        "        player *= -1\n",
        "        i += 1\n",
        "\n",
        "        end = game.state\n",
        "    ret = []\n",
        "    for tup in training_tups:\n",
        "        train = (tup[0],end*tup[2],tup[1])\n",
        "        ret.append(train)\n",
        "    return ret\n"
      ],
      "execution_count": null,
      "outputs": []
    },
    {
      "cell_type": "code",
      "metadata": {
        "id": "IBSwotste4Y-",
        "colab_type": "code",
        "colab": {
          "base_uri": "https://localhost:8080/",
          "height": 36
        },
        "outputId": "c557672b-6aef-42e3-aa43-fa8e10ebfb5c"
      },
      "source": [
        "nnet = NNet()\n",
        "nnet.to(device)\n",
        "train = play_through_examples(nnet)\n",
        "print(len(train))\n"
      ],
      "execution_count": null,
      "outputs": [
        {
          "output_type": "stream",
          "text": [
            "20\n"
          ],
          "name": "stdout"
        }
      ]
    },
    {
      "cell_type": "markdown",
      "metadata": {
        "id": "_LncaJl2BymD",
        "colab_type": "text"
      },
      "source": [
        "# Self Play\n"
      ]
    },
    {
      "cell_type": "code",
      "metadata": {
        "id": "2JJ-B9_RB1Pc",
        "colab_type": "code",
        "colab": {}
      },
      "source": [
        "# tree 1 goes first\n",
        "def play_single(tree1, tree2):\n",
        "    game = Game()\n",
        "\n",
        "    while game.state == 2:\n",
        "        normalized_board = game.make_copy()\n",
        "        normalized_board.normalize_board()\n",
        "        tree = tree1 if game.player == 1 else tree2\n",
        "        move = tree.get_move(normalized_board)\n",
        "        game.make_move(move)\n",
        "    return game.state"
      ],
      "execution_count": null,
      "outputs": []
    },
    {
      "cell_type": "code",
      "metadata": {
        "id": "NG5vCvWTDzkK",
        "colab_type": "code",
        "colab": {}
      },
      "source": [
        "def play_mult_games(tree1, tree2, num_games=40):\n",
        "    per_round = num_games // 2\n",
        "    wins_1 = 0\n",
        "    wins_2 = 0\n",
        "    draws = 0\n",
        "\n",
        "    # play with tree1 going first\n",
        "    for i in range(per_round):\n",
        "        res = play_single(tree1, tree2)\n",
        "        if res == 1:\n",
        "           wins_1 += 1\n",
        "        elif res == -1:\n",
        "            wins_2 += 1\n",
        "        else:\n",
        "            draws += 1\n",
        "    \n",
        "    # play with tree2 going first\n",
        "    for i in range(per_round):\n",
        "        res = play_single(tree2, tree1)\n",
        "        if res == 1:\n",
        "            wins_2 += 1\n",
        "        elif res == -1:\n",
        "            wins_1 += 1\n",
        "        else:\n",
        "          draws += 1\n",
        "    \n",
        "    return wins_1, wins_2, draws"
      ],
      "execution_count": null,
      "outputs": []
    },
    {
      "cell_type": "code",
      "metadata": {
        "id": "UrXVcdc3GnDj",
        "colab_type": "code",
        "colab": {}
      },
      "source": [
        "# returns True if new net should replace prev net\n",
        "def compare_nets(new_net, prev_net, thresh=0.6):\n",
        "    new_mcst = MCST(new_net)\n",
        "    prev_mcst = MCST(prev_net)\n",
        "\n",
        "    new_wins, prev_wins, draws = play_mult_games(new_mcst, prev_mcst)\n",
        "    print(new_wins, prev_wins, draws)\n",
        "\n",
        "    if new_wins + prev_wins == 0:\n",
        "        return False\n",
        "    new_win_rate = new_wins / (new_wins + prev_wins)\n",
        "    if new_win_rate > thresh:\n",
        "        return True\n",
        "    return False\n"
      ],
      "execution_count": null,
      "outputs": []
    },
    {
      "cell_type": "markdown",
      "metadata": {
        "id": "pVtC8q8vYlK8",
        "colab_type": "text"
      },
      "source": [
        "# Training"
      ]
    },
    {
      "cell_type": "code",
      "metadata": {
        "id": "gAkI7jY4Ym0R",
        "colab_type": "code",
        "colab": {}
      },
      "source": [
        "import _pickle as pickle\n",
        "# save network\n",
        "def save_net(net, path):\n",
        "    # Save model\n",
        "    torch.save(net.state_dict(), path)\n",
        "\n",
        "# load network\n",
        "def load_net(path):\n",
        "    net = NNet()\n",
        "    net.to(device)\n",
        "    state_dict = torch.load(path, map_location = device)\n",
        "    net.load_state_dict(state_dict)\n",
        "    return net\n",
        "\n",
        "def save_and_load(net, path):\n",
        "    save_net(net, path)\n",
        "    copied = load_net(path)\n",
        "    return copied\n",
        "\n",
        "def save_prev_training(prev_training, path):\n",
        "    with open(path,'wb') as output:\n",
        "        pickle.dump(prev_training,output, -1)\n",
        "\n",
        "def load_prev_training(path):\n",
        "    with open(path,'rb') as file:\n",
        "        ret = pickle.load(file)\n",
        "    return ret"
      ],
      "execution_count": null,
      "outputs": []
    },
    {
      "cell_type": "code",
      "metadata": {
        "id": "SqVTSy6uaMBg",
        "colab_type": "code",
        "colab": {}
      },
      "source": [
        "from collections import deque as deq\n",
        "import time\n",
        "\n",
        "def train_net(net, path, training_path, niters=100, neps=100,\n",
        "              queue_cap=100000, prev_training_cap=20, start=0):\n",
        "    if net is None:\n",
        "        curr_net = load_net(path)\n",
        "        prev_training = load_prev_training(training_path)\n",
        "        print(len(prev_training))\n",
        "    else:\n",
        "        curr_net = net\n",
        "        save_net(curr_net, path)\n",
        "        prev_training = []\n",
        "\n",
        "    for i in range(start, niters):\n",
        "        print('Starting iter %d' % (i+1))\n",
        "        start = time.time()\n",
        "        iter_training = deq([], maxlen=queue_cap)\n",
        "        for j in range(neps):\n",
        "            train = play_through_examples(curr_net)\n",
        "            iter_training.extend(train)\n",
        "        \n",
        "        prev_training.append(iter_training)\n",
        "\n",
        "        if len(prev_training) > prev_training_cap:\n",
        "            prev_training.pop(0)\n",
        "        \n",
        "        end1 = time.time()\n",
        "        print('Generating Training: %f seconds' % (end1 - start))\n",
        "\n",
        "        save_prev_training(prev_training, training_path)\n",
        "\n",
        "        training = []\n",
        "        for x in prev_training:\n",
        "            training.extend(x)\n",
        "\n",
        "        prev_net = load_net(path)\n",
        "\n",
        "        train_mult_epochs(curr_net, training)\n",
        "\n",
        "        end2 = time.time()\n",
        "        print('Training Model: %f seconds' % (end2 - end1))\n",
        "\n",
        "        comp = compare_nets(curr_net, prev_net)\n",
        "\n",
        "        end3 = time.time()\n",
        "        print('Final Comparison: %f seconds' % (end3 - end2))\n",
        "        if not comp:\n",
        "            print('reject model')\n",
        "            curr_net = prev_net\n",
        "        else:\n",
        "            print('update model')\n",
        "            save_net(curr_net, path)\n",
        "        \n",
        "        print('Total Iteration Time: %f seconds\\n' % (end3 - start))\n",
        "    \n",
        "    save_net(curr_net, path)\n",
        "    return curr_net\n"
      ],
      "execution_count": null,
      "outputs": []
    },
    {
      "cell_type": "code",
      "metadata": {
        "id": "-xOR-9meYSZf",
        "colab_type": "code",
        "colab": {}
      },
      "source": [
        "datadir='/ME/My Drive/Colab Notebooks/'\n",
        "path=datadir + 'models/c4ai'\n",
        "train_path = datadir + 'training/c4train'"
      ],
      "execution_count": null,
      "outputs": []
    },
    {
      "cell_type": "code",
      "metadata": {
        "id": "cvwTRbCEnVAV",
        "colab_type": "code",
        "colab": {}
      },
      "source": [
        "#nnet = NNet()\n",
        "#nnet.to(device)\n",
        "\n",
        "c4ai = train_net(None, path, train_path,start=25)"
      ],
      "execution_count": null,
      "outputs": []
    },
    {
      "cell_type": "markdown",
      "metadata": {
        "id": "OrVDSlln-eUX",
        "colab_type": "text"
      },
      "source": [
        "# Play Against Bot\n"
      ]
    },
    {
      "cell_type": "code",
      "metadata": {
        "id": "0KPWYOet-dOl",
        "colab_type": "code",
        "colab": {}
      },
      "source": [
        "def represents_int(s):\n",
        "    try: \n",
        "        int(s)\n",
        "        return True\n",
        "    except ValueError:\n",
        "        return False\n",
        "\n",
        "def player_move(game):\n",
        "    while True:\n",
        "        print('Enter a valid column from 1-7:')\n",
        "        a = input()\n",
        "        if not represents_int(a):\n",
        "            continue\n",
        "        inp = int(a) - 1\n",
        "        if game.check_valid_move(inp):\n",
        "            return inp\n",
        "\n",
        "\n",
        "def play_against_net(net, mcst_sims=50, player=1):\n",
        "    game = Game()\n",
        "    mcst = MCST(net, num_sims=mcst_sims)\n",
        "    while game.state == 2:\n",
        "        if game.player == player:\n",
        "            game.display_board()\n",
        "            move = player_move(game)\n",
        "        else:\n",
        "            normalized_board = game.make_copy()\n",
        "            normalized_board.normalize_board()\n",
        "            move = mcst.get_move(normalized_board)\n",
        "        game.make_move(move)\n",
        "    game.display_board()\n",
        "    if game.state == player:\n",
        "        print('You Win!')\n",
        "    elif game.state == -player:\n",
        "        print('You Lose!')\n",
        "    else:\n",
        "        print('Draw.')"
      ],
      "execution_count": null,
      "outputs": []
    },
    {
      "cell_type": "code",
      "metadata": {
        "id": "TPLi8eMR6h9-",
        "colab_type": "code",
        "colab": {}
      },
      "source": [
        "c4ai = load_net(path)\n",
        "\n",
        "play_against_net(c4ai)"
      ],
      "execution_count": null,
      "outputs": []
    }
  ]
}